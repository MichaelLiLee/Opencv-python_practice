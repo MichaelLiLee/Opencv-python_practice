{
 "cells": [
  {
   "cell_type": "markdown",
   "metadata": {},
   "source": [
    "# 2.影片處理入門(Getting Started with Videos)\n",
    "\n",
    "## 學習目標:\n",
    "\n",
    "2.1.從攝影機中讀取影片(Capture Video from Camera)\n",
    "\n",
    "2.2.從影片檔案中播放影片(Playing Video from file)\n",
    "\n",
    "2.3.儲存影片(Saving a Video)\n"
   ]
  }
 ],
 "metadata": {
  "kernelspec": {
   "display_name": "Python 3",
   "language": "python",
   "name": "python3"
  },
  "language_info": {
   "codemirror_mode": {
    "name": "ipython",
    "version": 3
   },
   "file_extension": ".py",
   "mimetype": "text/x-python",
   "name": "python",
   "nbconvert_exporter": "python",
   "pygments_lexer": "ipython3",
   "version": "3.8.5"
  }
 },
 "nbformat": 4,
 "nbformat_minor": 4
}
